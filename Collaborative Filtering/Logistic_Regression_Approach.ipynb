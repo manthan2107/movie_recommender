{
  "cells": [
    {
      "cell_type": "markdown",
      "source": [
        "#Logistic Regression"
      ],
      "metadata": {
        "id": "7YYBsYnH4xSB"
      }
    },
    {
      "cell_type": "markdown",
      "source": [
        "#Imports"
      ],
      "metadata": {
        "id": "-PpdWuVPAGgk"
      }
    },
    {
      "cell_type": "code",
      "source": [
        "import pandas as pd\n",
        "from sklearn.model_selection import train_test_split\n",
        "from sklearn.linear_model import LogisticRegression\n",
        "from sklearn.metrics import accuracy_score, classification_report"
      ],
      "metadata": {
        "id": "OIcDRmUJAIXF"
      },
      "execution_count": 1,
      "outputs": []
    },
    {
      "cell_type": "markdown",
      "source": [
        "#Data Loading"
      ],
      "metadata": {
        "id": "a0jLBJgwAKYx"
      }
    },
    {
      "cell_type": "code",
      "source": [
        "#Load ratings data from the github\n",
        "rating_path = \"https://raw.githubusercontent.com/Bansal0527/Movie-Recomendation-System/main/Dataset/ratings.csv\"\n",
        "movies_path = 'https://raw.githubusercontent.com/Bansal0527/Movie-Recomendation-System/master/Dataset/movies.csv'\n",
        "\n",
        "ratings = pd.read_csv(rating_path)\n",
        "movies = pd.read_csv(movies_path)\n",
        "\n",
        "print(ratings.head())\n"
      ],
      "metadata": {
        "colab": {
          "base_uri": "https://localhost:8080/"
        },
        "id": "rO1iVyDi2M_B",
        "outputId": "da27cf57-0a12-4c66-c273-dcdcf7213cf2"
      },
      "execution_count": 2,
      "outputs": [
        {
          "output_type": "stream",
          "name": "stdout",
          "text": [
            "   userId  movieId  rating  timestamp\n",
            "0       1        1     4.0  964982703\n",
            "1       1        3     4.0  964981247\n",
            "2       1        6     4.0  964982224\n",
            "3       1       47     5.0  964983815\n",
            "4       1       50     5.0  964982931\n"
          ]
        }
      ]
    },
    {
      "cell_type": "code",
      "source": [
        "# Define threshold for liked/disliked\n",
        "threshold = 2\n",
        "\n",
        "# Convert ratings to binary labels\n",
        "ratings['liked'] = (ratings['rating'] >= threshold).astype(int)\n",
        "\n",
        "# Prepare data for logistic regression\n",
        "X = ratings[['userId', 'movieId']]\n",
        "y = ratings['liked']\n",
        "\n",
        "\n"
      ],
      "metadata": {
        "id": "ElsZW3rM2m4L"
      },
      "execution_count": 4,
      "outputs": []
    },
    {
      "cell_type": "code",
      "source": [
        "# Split the data into training and testing sets\n",
        "X_train, X_test, y_train, y_test = train_test_split(X, y, test_size=0.2, random_state=42)\n",
        "\n",
        "# Initialize and train logistic regression model\n",
        "model = LogisticRegression()\n",
        "model.fit(X_train, y_train)\n",
        "\n",
        "# Make predictions\n",
        "y_pred = model.predict(X_test)\n",
        "\n",
        "# Evaluate the model\n",
        "# accuracy = accuracy_score(y_test, y_pred)\n",
        "# print(\"Accuracy:\", accuracy)\n",
        "\n",
        "# # Classification report\n",
        "# print(\"Classification Report:\")\n",
        "# print(classification_report(y_test, y_pred))\n",
        "\n",
        "\n",
        "\n",
        "# Example of using the model to recommend movies for a specific user\n",
        "user_id = 1\n",
        "user_movies = ratings[ratings['userId'] == user_id]['movieId'].unique()\n",
        "user_unrated_movies = ratings[~ratings['movieId'].isin(user_movies)]['movieId'].unique()\n",
        "\n",
        "# Create a DataFrame of user's unrated movies\n",
        "recommendation_X = pd.DataFrame({'userId': [user_id] * len(user_unrated_movies), 'movieId': user_unrated_movies})\n",
        "\n",
        "# Predict probability of being liked\n",
        "user_probabilities = model.predict_proba(recommendation_X)[:, 1]\n",
        "\n",
        "# Find the top recommended movies\n",
        "recommendations = pd.DataFrame({'movieId': user_unrated_movies, 'liked_probability': user_probabilities})\n",
        "recommendations = recommendations.sort_values(by='liked_probability', ascending=False).head(10)\n",
        "\n",
        "# Add movie names to recommendations\n",
        "recommendations_with_names = pd.merge(recommendations, movies[['movieId', 'title']], on='movieId')\n",
        "\n",
        "print(\"Top Recommended Movies for User\", user_id, \":\")\n",
        "print(recommendations_with_names[['title', 'liked_probability']])"
      ],
      "metadata": {
        "colab": {
          "base_uri": "https://localhost:8080/"
        },
        "id": "wupUJ7_B21DH",
        "outputId": "c3689da9-2190-4b48-ff6e-b1bd54ba55c3"
      },
      "execution_count": 5,
      "outputs": [
        {
          "output_type": "stream",
          "name": "stdout",
          "text": [
            "Top Recommended Movies for User 1 :\n",
            "                                title  liked_probability\n",
            "0                      Jumanji (1995)           0.953235\n",
            "1            Waiting to Exhale (1995)           0.953234\n",
            "2  Father of the Bride Part II (1995)           0.953234\n",
            "3                      Sabrina (1995)           0.953234\n",
            "4                 Tom and Huck (1995)           0.953234\n",
            "5                 Sudden Death (1995)           0.953234\n",
            "6                    GoldenEye (1995)           0.953234\n",
            "7      American President, The (1995)           0.953234\n",
            "8  Dracula: Dead and Loving It (1995)           0.953233\n",
            "9                        Balto (1995)           0.953233\n"
          ]
        }
      ]
    }
  ],
  "metadata": {
    "colab": {
      "provenance": []
    },
    "kernelspec": {
      "display_name": "Python 3.11.6 64-bit",
      "language": "python",
      "name": "python3"
    },
    "language_info": {
      "codemirror_mode": {
        "name": "ipython",
        "version": 3
      },
      "file_extension": ".py",
      "mimetype": "text/x-python",
      "name": "python",
      "nbconvert_exporter": "python",
      "pygments_lexer": "ipython3",
      "version": "3.11.6"
    },
    "vscode": {
      "interpreter": {
        "hash": "b0fa6594d8f4cbf19f97940f81e996739fb7646882a419484c72d19e05852a7e"
      }
    }
  },
  "nbformat": 4,
  "nbformat_minor": 0
}
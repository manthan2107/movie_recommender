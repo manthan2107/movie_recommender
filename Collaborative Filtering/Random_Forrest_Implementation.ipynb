{
  "cells": [
    {
      "cell_type": "markdown",
      "metadata": {
        "id": "01EphyAitKoZ"
      },
      "source": [
        "# Importing Libraries"
      ]
    },
    {
      "cell_type": "code",
      "execution_count": 1,
      "metadata": {
        "id": "0fGNe94xt7RZ"
      },
      "outputs": [],
      "source": [
        "import numpy as np\n",
        "import pandas as pd\n",
        "from sklearn.ensemble import RandomForestRegressor\n",
        "from sklearn.model_selection import train_test_split\n",
        "from sklearn.model_selection import ParameterSampler"
      ]
    },
    {
      "cell_type": "markdown",
      "metadata": {
        "id": "eZCoZajBtbUG"
      },
      "source": [
        "# Loading Data"
      ]
    },
    {
      "cell_type": "code",
      "execution_count": 2,
      "metadata": {
        "id": "XgU2zA-wt9ns"
      },
      "outputs": [],
      "source": [
        "def load_data(movies_path, ratings_path):\n",
        "    movies = pd.read_csv(movies_path)\n",
        "    ratings = pd.read_csv(ratings_path)\n",
        "    return movies, ratings\n",
        "\n",
        "movies_path = 'https://raw.githubusercontent.com/Bansal0527/Movie-Recomendation-System/main/Dataset/movies.csv'\n",
        "ratings_path = 'https://raw.githubusercontent.com/Bansal0527/Movie-Recomendation-System/master/Dataset/ratings.csv'\n",
        "movies, ratings = load_data(movies_path, ratings_path)"
      ]
    },
    {
      "cell_type": "markdown",
      "metadata": {
        "id": "Cir8TmcptdVA"
      },
      "source": [
        "# Data Preprocessing"
      ]
    },
    {
      "cell_type": "code",
      "execution_count": 3,
      "metadata": {
        "colab": {
          "base_uri": "https://localhost:8080/"
        },
        "id": "f5DVpxqMEmi_",
        "outputId": "48de97ba-bba2-448d-d882-f82ea256f5d0"
      },
      "outputs": [
        {
          "output_type": "stream",
          "name": "stdout",
          "text": [
            "Best parameters: {'min_user_votes': 15, 'min_movie_votes': 31}\n",
            "Best sparsity score: 0.9999416111038673\n"
          ]
        }
      ],
      "source": [
        "param_space = {\n",
        "    'min_user_votes': range(10, 101),\n",
        "    'min_movie_votes': range(30, 101)\n",
        "}\n",
        "n_iter = 100\n",
        "best_score = float('inf')\n",
        "best_params = None\n",
        "param_sampler = ParameterSampler(param_space, n_iter=n_iter, random_state=42)\n",
        "for params in param_sampler:\n",
        "    filtered_ratings = ratings.copy()\n",
        "    user_counts = filtered_ratings['userId'].value_counts()\n",
        "    movie_counts = filtered_ratings['movieId'].value_counts()\n",
        "    filtered_ratings = filtered_ratings[filtered_ratings['userId'].isin(user_counts[user_counts >= params['min_user_votes']].index)]\n",
        "    filtered_ratings = filtered_ratings[filtered_ratings['movieId'].isin(movie_counts[movie_counts >= params['min_movie_votes']].index)]\n",
        "    sparsity = 1 - len(filtered_ratings) / (len(ratings) * len(movies))\n",
        "    if sparsity < best_score:\n",
        "        best_score = sparsity\n",
        "        best_params = params\n",
        "\n",
        "print(\"Best parameters:\", best_params)\n",
        "print(\"Best sparsity score:\", best_score)"
      ]
    },
    {
      "cell_type": "code",
      "execution_count": 4,
      "metadata": {
        "id": "UFvtiJajrxqX"
      },
      "outputs": [],
      "source": [
        "def preprocess_data(ratings, min_user_votes = 15, min_movie_votes = 31):\n",
        "    user_counts = ratings['userId'].value_counts()\n",
        "    movie_counts = ratings['movieId'].value_counts()\n",
        "\n",
        "    ratings = ratings[ratings['userId'].isin(user_counts[user_counts >= min_user_votes].index)]\n",
        "    ratings = ratings[ratings['movieId'].isin(movie_counts[movie_counts >= min_movie_votes].index)]\n",
        "\n",
        "    final_dataset = ratings.pivot(index='movieId', columns='userId', values='rating').fillna(0)\n",
        "    return final_dataset\n",
        "\n",
        "final_dataset = preprocess_data(ratings)\n",
        "movies['genres'] = movies['genres'].str.replace('|', ' ')"
      ]
    },
    {
      "cell_type": "markdown",
      "metadata": {
        "id": "mqWsIvUBuh6B"
      },
      "source": [
        "# Training Model"
      ]
    },
    {
      "cell_type": "code",
      "execution_count": 5,
      "metadata": {
        "id": "WGOwgj5pujzr"
      },
      "outputs": [],
      "source": [
        "random_forest = RandomForestRegressor(n_estimators=100, random_state=42)"
      ]
    },
    {
      "cell_type": "markdown",
      "metadata": {
        "id": "q_yGywySuuv-"
      },
      "source": [
        "# Predicting Movies"
      ]
    },
    {
      "cell_type": "code",
      "execution_count": 6,
      "metadata": {
        "colab": {
          "base_uri": "https://localhost:8080/"
        },
        "id": "O7Mip3_YuuBz",
        "outputId": "f8171f0d-dc49-4710-9b0d-aa5b99a6ac74"
      },
      "outputs": [
        {
          "output_type": "stream",
          "name": "stdout",
          "text": [
            "Enter user ID between 1 and 610 : 500\n",
            "Recommended movies for user with ID 500 :\n",
            "                                   title                      genres\n",
            "0                         Jumanji (1995)  Adventure Children Fantasy\n",
            "1                Grumpier Old Men (1995)              Comedy Romance\n",
            "2     Father of the Bride Part II (1995)                      Comedy\n",
            "3                            Heat (1995)       Action Crime Thriller\n",
            "4                         Sabrina (1995)              Comedy Romance\n",
            "5                       GoldenEye (1995)   Action Adventure Thriller\n",
            "6                          Casino (1995)                 Crime Drama\n",
            "7           Sense and Sensibility (1995)               Drama Romance\n",
            "8  Ace Ventura: When Nature Calls (1995)                      Comedy\n",
            "9                      Get Shorty (1995)       Comedy Crime Thriller\n"
          ]
        }
      ],
      "source": [
        "def suggest_movies_for_user(user_id, movies, model):\n",
        "    user_ratings = final_dataset[user_id]\n",
        "    unrated_movies = user_ratings[user_ratings == 0].index.tolist()\n",
        "    predictions = model.predict(final_dataset.drop(columns=[user_id])).tolist()\n",
        "    suggestions = pd.DataFrame({'movieId': final_dataset.index, 'predicted_rating': predictions})\n",
        "    suggestions = suggestions[suggestions['movieId'].isin(unrated_movies)]\n",
        "    suggestions = suggestions.merge(movies[['movieId', 'title', 'genres']], on='movieId')\n",
        "    return suggestions[['title', 'genres']]\n",
        "\n",
        "\n",
        "user_id = 1\n",
        "user_id_to_drop = user_id if user_id in final_dataset.columns else None\n",
        "random_forest.fit(final_dataset.drop(columns=[user_id_to_drop]), final_dataset[user_id])\n",
        "recommended_movies = suggest_movies_for_user(user_id, movies, random_forest)\n",
        "print(\"Recommended movies for user with ID\", user_id, \":\")\n",
        "print(recommended_movies.head(10))"
      ]
    }
  ],
  "metadata": {
    "colab": {
      "provenance": []
    },
    "kernelspec": {
      "display_name": "Python 3",
      "name": "python3"
    },
    "language_info": {
      "codemirror_mode": {
        "name": "ipython",
        "version": 3
      },
      "file_extension": ".py",
      "mimetype": "text/x-python",
      "name": "python",
      "nbconvert_exporter": "python",
      "pygments_lexer": "ipython3",
      "version": "3.10.12"
    }
  },
  "nbformat": 4,
  "nbformat_minor": 0
}
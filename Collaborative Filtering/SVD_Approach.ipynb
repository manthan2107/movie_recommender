{
  "cells": [
    {
      "cell_type": "markdown",
      "metadata": {
        "id": "IKQAZSw0Ucpx"
      },
      "source": [
        "# Importing the Libraries"
      ]
    },
    {
      "cell_type": "code",
      "execution_count": 23,
      "metadata": {
        "id": "CBbGfateUcpy"
      },
      "outputs": [],
      "source": [
        "import numpy as np\n",
        "import pandas as pd\n",
        "from sklearn.svm import SVC\n",
        "from sklearn.feature_extraction.text import TfidfVectorizer\n",
        "from sklearn.metrics.pairwise import cosine_similarity\n",
        "from sklearn.model_selection import ParameterSampler\n",
        "from scipy.sparse.linalg import svds\n",
        "from scipy.sparse import csr_matrix"
      ]
    },
    {
      "cell_type": "markdown",
      "metadata": {
        "id": "KIfFlKZCUcpz"
      },
      "source": [
        "# Loading the Dataset"
      ]
    },
    {
      "cell_type": "code",
      "execution_count": 24,
      "metadata": {
        "id": "829LJ4MpUcpz"
      },
      "outputs": [],
      "source": [
        "def load_data(movies_path, ratings_path):\n",
        "    movies = pd.read_csv(movies_path)\n",
        "    ratings = pd.read_csv(ratings_path)\n",
        "    return movies, ratings\n",
        "\n",
        "movies_path = 'https://raw.githubusercontent.com/Bansal0527/Movie-Recomendation-System/master/Dataset/movies.csv'\n",
        "ratings_path = 'https://raw.githubusercontent.com/Bansal0527/Movie-Recomendation-System/master/Dataset/ratings.csv'\n",
        "movies, ratings = load_data(movies_path, ratings_path)"
      ]
    },
    {
      "cell_type": "markdown",
      "metadata": {
        "id": "gmyESFDbUcpz"
      },
      "source": [
        "# Preprocessing the Dataset"
      ]
    },
    {
      "cell_type": "code",
      "execution_count": 25,
      "metadata": {
        "colab": {
          "base_uri": "https://localhost:8080/"
        },
        "id": "K78D2jUMUcpz",
        "outputId": "247a223e-2511-4ce9-b7cf-5cbb5b9015c7"
      },
      "outputs": [
        {
          "output_type": "stream",
          "name": "stdout",
          "text": [
            "Best parameters: {'min_user_votes': 15, 'min_movie_votes': 31}\n",
            "Best sparsity score: 0.9999416111038673\n"
          ]
        }
      ],
      "source": [
        "param_space = {\n",
        "    'min_user_votes': range(10, 101),\n",
        "    'min_movie_votes': range(30, 101)\n",
        "}\n",
        "n_iter = 100\n",
        "best_score = float('inf')\n",
        "best_params = None\n",
        "param_sampler = ParameterSampler(param_space, n_iter=n_iter, random_state=42)\n",
        "for params in param_sampler:\n",
        "    filtered_ratings = ratings.copy()\n",
        "    user_counts = filtered_ratings['userId'].value_counts()\n",
        "    movie_counts = filtered_ratings['movieId'].value_counts()\n",
        "    filtered_ratings = filtered_ratings[filtered_ratings['userId'].isin(user_counts[user_counts >= params['min_user_votes']].index)]\n",
        "    filtered_ratings = filtered_ratings[filtered_ratings['movieId'].isin(movie_counts[movie_counts >= params['min_movie_votes']].index)]\n",
        "    sparsity = 1 - len(filtered_ratings) / (len(ratings) * len(movies))\n",
        "    if sparsity < best_score:\n",
        "        best_score = sparsity\n",
        "        best_params = params\n",
        "\n",
        "print(\"Best parameters:\", best_params)\n",
        "print(\"Best sparsity score:\", best_score)"
      ]
    },
    {
      "cell_type": "code",
      "execution_count": 26,
      "metadata": {
        "id": "Ub9VeqgVUcpz"
      },
      "outputs": [],
      "source": [
        "def preprocess_data(ratings, min_user_votes = 15, min_movie_votes = 31):\n",
        "    user_counts = ratings['userId'].value_counts()\n",
        "    movie_counts = ratings['movieId'].value_counts()\n",
        "\n",
        "    ratings = ratings[ratings['userId'].isin(user_counts[user_counts >= min_user_votes].index)]\n",
        "    ratings = ratings[ratings['movieId'].isin(movie_counts[movie_counts >= min_movie_votes].index)]\n",
        "\n",
        "    final_dataset = ratings.pivot(index='movieId', columns='userId', values='rating').fillna(0)\n",
        "    return final_dataset\n",
        "\n",
        "final_dataset = preprocess_data(ratings)\n",
        "movies['genres'] = movies['genres'].str.replace('|', ' ')"
      ]
    },
    {
      "cell_type": "markdown",
      "metadata": {
        "id": "H4_KODUEUcp0"
      },
      "source": [
        "# Training the Singular Value Decomposition (SVD) Model"
      ]
    },
    {
      "cell_type": "code",
      "execution_count": 27,
      "metadata": {
        "id": "ICf37sjFUcp0"
      },
      "outputs": [],
      "source": [
        "def collaborative_filtering_svd(final_dataset, k=50):\n",
        "    sparse_final_dataset = csr_matrix(final_dataset.values)\n",
        "    U, sigma, Vt = svds(sparse_final_dataset, k=k)\n",
        "    sigma = np.diag(sigma)\n",
        "    predicted_ratings = np.dot(np.dot(U, sigma), Vt)\n",
        "    return predicted_ratings\n",
        "\n",
        "# Collaborative filtering SVD\n",
        "predicted_ratings = collaborative_filtering_svd(final_dataset)"
      ]
    },
    {
      "cell_type": "markdown",
      "metadata": {
        "id": "7haf7SUDUcp0"
      },
      "source": [
        "# Movie Recommendation System"
      ]
    },
    {
      "cell_type": "markdown",
      "metadata": {
        "id": "2pQmTIxpUcp1"
      },
      "source": [
        "Movie recommendation on the basis of the model trained"
      ]
    },
    {
      "cell_type": "code",
      "execution_count": 39,
      "metadata": {
        "colab": {
          "base_uri": "https://localhost:8080/"
        },
        "id": "JzjvlBGmUcp1",
        "outputId": "e36ff772-4cdf-4e0e-b0b7-1125955d8557"
      },
      "outputs": [
        {
          "output_type": "stream",
          "name": "stdout",
          "text": [
            "      movieId                                       title  \\\n",
            "1009     1320              Alien³ (a.k.a. Alien 3) (1992)   \n",
            "2553     3418                      Thelma & Louise (1991)   \n",
            "984      1285                             Heathers (1989)   \n",
            "2515     3363                    American Graffiti (1973)   \n",
            "929      1228                          Raging Bull (1980)   \n",
            "1757     2355                        Bug's Life, A (1998)   \n",
            "1544     2080                   Lady and the Tramp (1955)   \n",
            "176       208                           Waterworld (1995)   \n",
            "1058     1375  Star Trek III: The Search for Spock (1984)   \n",
            "3172     4270                   Mummy Returns, The (2001)   \n",
            "\n",
            "                                   genres  \n",
            "1009        Action Horror Sci-Fi Thriller  \n",
            "2553                Adventure Crime Drama  \n",
            "984                                Comedy  \n",
            "2515                         Comedy Drama  \n",
            "929                                 Drama  \n",
            "1757  Adventure Animation Children Comedy  \n",
            "1544    Animation Children Comedy Romance  \n",
            "176               Action Adventure Sci-Fi  \n",
            "1058              Action Adventure Sci-Fi  \n",
            "3172     Action Adventure Comedy Thriller  \n"
          ]
        }
      ],
      "source": [
        "def recommend_movies(predictions, movies_df, userID, num_recommendations=10):\n",
        "    user_row_number = userID - 1  # UserID starts at 1, so we need to convert to zero-based index\n",
        "\n",
        "    # Get and sort the user's predictions\n",
        "    sorted_user_predictions = predictions[user_row_number].argsort()[::-1]\n",
        "\n",
        "    # Filter out movies that the user has already rated\n",
        "    user_rated_movies = ratings[ratings['userId'] == userID]['movieId'].values\n",
        "\n",
        "    # Initialize recommendations list\n",
        "    recommendations = []\n",
        "\n",
        "    # Iterate through sorted indices\n",
        "    for movie_index in sorted_user_predictions:\n",
        "        movie_id = final_dataset.index[movie_index]\n",
        "        # Check if the movie is not rated by the user\n",
        "        if movie_id not in user_rated_movies:\n",
        "            movie_info = movies_df.loc[movies_df['movieId'] == movie_id]\n",
        "            recommendations.append(movie_info)\n",
        "\n",
        "            # Break loop if recommendations list has reached the desired length\n",
        "            if len(recommendations) == num_recommendations:\n",
        "                break\n",
        "\n",
        "    # Concatenate movie information into a single DataFrame\n",
        "    recommendations_df = pd.concat(recommendations)\n",
        "\n",
        "    return recommendations_df[['movieId', 'title', 'genres']]\n",
        "\n",
        "# Example usage:\n",
        "userID = 1  # Set the user ID you want to recommend movies for\n",
        "recommendations = recommend_movies(predicted_ratings, movies, userID)\n",
        "print(recommendations)"
      ]
    }
  ],
  "metadata": {
    "kernelspec": {
      "display_name": "base",
      "language": "python",
      "name": "python3"
    },
    "language_info": {
      "codemirror_mode": {
        "name": "ipython",
        "version": 3
      },
      "file_extension": ".py",
      "mimetype": "text/x-python",
      "name": "python",
      "nbconvert_exporter": "python",
      "pygments_lexer": "ipython3",
      "version": "3.9.13"
    },
    "colab": {
      "provenance": []
    }
  },
  "nbformat": 4,
  "nbformat_minor": 0
}
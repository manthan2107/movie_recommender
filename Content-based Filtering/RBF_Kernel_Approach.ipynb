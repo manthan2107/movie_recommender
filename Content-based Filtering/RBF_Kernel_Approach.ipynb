{
 "cells": [
  {
   "cell_type": "markdown",
   "metadata": {},
   "source": [
    "# Importing the Libraries"
   ]
  },
  {
   "cell_type": "code",
   "execution_count": 1,
   "metadata": {},
   "outputs": [],
   "source": [
    "import numpy as np\n",
    "import pandas as pd\n",
    "from sklearn.svm import SVC\n",
    "from sklearn.feature_extraction.text import TfidfVectorizer\n",
    "from sklearn.metrics.pairwise import cosine_similarity\n",
    "from sklearn.model_selection import ParameterSampler"
   ]
  },
  {
   "cell_type": "markdown",
   "metadata": {},
   "source": [
    "# Loading the Dataset"
   ]
  },
  {
   "cell_type": "code",
   "execution_count": 2,
   "metadata": {},
   "outputs": [],
   "source": [
    "def load_data(movies_path, ratings_path):\n",
    "  movies = pd.read_csv(movies_path)\n",
    "  ratings = pd.read_csv(ratings_path)\n",
    "  return movies, ratings\n",
    "\n",
    "movies_path = 'https://raw.githubusercontent.com/Bansal0527/Movie-Recomendation-System/master/Dataset/movies.csv'\n",
    "ratings_path = 'https://raw.githubusercontent.com/Bansal0527/Movie-Recomendation-System/master/Dataset/ratings.csv'\n",
    "movies, ratings = load_data(movies_path, ratings_path)"
   ]
  },
  {
   "cell_type": "markdown",
   "metadata": {},
   "source": [
    "# Preprocessing the Dataset"
   ]
  },
  {
   "cell_type": "code",
   "execution_count": 3,
   "metadata": {},
   "outputs": [
    {
     "name": "stdout",
     "output_type": "stream",
     "text": [
      "Best parameters: {'min_user_votes': 15, 'min_movie_votes': 31}\n",
      "Best sparsity score: 0.9999416111038673\n"
     ]
    }
   ],
   "source": [
    "param_space = {\n",
    "    'min_user_votes': range(10, 101),\n",
    "    'min_movie_votes': range(30, 101)\n",
    "}\n",
    "n_iter = 100\n",
    "best_score = float('inf')\n",
    "best_params = None\n",
    "param_sampler = ParameterSampler(param_space, n_iter=n_iter, random_state=42)\n",
    "for params in param_sampler:\n",
    "  filtered_ratings = ratings.copy()\n",
    "  user_counts = filtered_ratings['userId'].value_counts()\n",
    "  movie_counts = filtered_ratings['movieId'].value_counts()\n",
    "  filtered_ratings = filtered_ratings[filtered_ratings['userId'].isin(user_counts[user_counts >= params['min_user_votes']].index)]\n",
    "  filtered_ratings = filtered_ratings[filtered_ratings['movieId'].isin(movie_counts[movie_counts >= params['min_movie_votes']].index)]\n",
    "  sparsity = 1 - len(filtered_ratings) / (len(ratings) * len(movies))\n",
    "  if sparsity < best_score:\n",
    "    best_score = sparsity\n",
    "    best_params = params\n",
    "\n",
    "print(\"Best parameters:\", best_params)\n",
    "print(\"Best sparsity score:\", best_score)"
   ]
  },
  {
   "cell_type": "code",
   "execution_count": 4,
   "metadata": {},
   "outputs": [],
   "source": [
    "def preprocess_data(ratings, min_user_votes = 15, min_movie_votes = 31):\n",
    "  user_counts = ratings['userId'].value_counts()\n",
    "  movie_counts = ratings['movieId'].value_counts()\n",
    "    \n",
    "  ratings = ratings[ratings['userId'].isin(user_counts[user_counts >= min_user_votes].index)]\n",
    "  ratings = ratings[ratings['movieId'].isin(movie_counts[movie_counts >= min_movie_votes].index)]\n",
    "    \n",
    "  final_dataset = ratings.pivot(index='movieId', columns='userId', values='rating').fillna(0)\n",
    "  return final_dataset\n",
    "\n",
    "final_dataset = preprocess_data(ratings)\n",
    "movies['genres'] = movies['genres'].str.replace('|', ' ')"
   ]
  },
  {
   "cell_type": "markdown",
   "metadata": {},
   "source": [
    "# Training the RBF Kernel SVM"
   ]
  },
  {
   "cell_type": "markdown",
   "metadata": {},
   "source": [
    "This block initializes a TF-IDF vectorizer to convert movie genres into numerical features. Then, it trains a Support Vector Machine (SVM) classifier with a radial basis function (RBF) kernel using the TF-IDF matrix and movie titles, enabling recommendations based on genre similarity."
   ]
  },
  {
   "cell_type": "code",
   "execution_count": 5,
   "metadata": {},
   "outputs": [
    {
     "data": {
      "text/plain": [
       "SVC()"
      ]
     },
     "execution_count": 5,
     "metadata": {},
     "output_type": "execute_result"
    }
   ],
   "source": [
    "tfidf_vectorizer = TfidfVectorizer()\n",
    "tfidf_matrix = tfidf_vectorizer.fit_transform(movies['genres'])\n",
    "\n",
    "svm_model_rbf = SVC(kernel='rbf')\n",
    "svm_model_rbf.fit(tfidf_matrix, movies['title'])"
   ]
  },
  {
   "cell_type": "markdown",
   "metadata": {},
   "source": [
    "# Movie Recommendation System"
   ]
  },
  {
   "cell_type": "markdown",
   "metadata": {},
   "source": [
    "Movie recommendation on the basis of the model trained"
   ]
  },
  {
   "cell_type": "code",
   "execution_count": 6,
   "metadata": {},
   "outputs": [
    {
     "name": "stdout",
     "output_type": "stream",
     "text": [
      "                                       title                   genres\n",
      "8692                    Black Panther (2017)  Action Adventure Sci-Fi\n",
      "8425       X-Men: Days of Future Past (2014)  Action Adventure Sci-Fi\n",
      "4619              Returner (Ritaanaa) (2002)  Action Adventure Sci-Fi\n",
      "8458  Transformers: Age of Extinction (2014)  Action Adventure Sci-Fi\n",
      "176                        Waterworld (1995)  Action Adventure Sci-Fi\n",
      "6863     20,000 Leagues Under the Sea (1916)  Action Adventure Sci-Fi\n",
      "8475          Guardians of the Galaxy (2014)  Action Adventure Sci-Fi\n",
      "9484                    Power Rangers (2017)  Action Adventure Sci-Fi\n",
      "8489                Jupiter Ascending (2015)  Action Adventure Sci-Fi\n",
      "4306                 Bulletproof Monk (2003)  Action Adventure Sci-Fi\n"
     ]
    }
   ],
   "source": [
    "def get_movie_recommendation_svm_rbf(movie_name, model, vectorizer, movies_df, k=10):\n",
    "  movie_idx = movies_df[movies_df['title'].str.contains(movie_name, case=False)].index\n",
    "  if len(movie_idx) > 0:\n",
    "    movie_features = vectorizer.transform(movies_df.iloc[movie_idx]['genres'])\n",
    "    similarity_scores = cosine_similarity(movie_features, tfidf_matrix)\n",
    "    similar_movies_idx = np.argsort(similarity_scores[0])[::-1][1:k+1] \n",
    "    recommendations = movies_df.iloc[similar_movies_idx][['title', 'genres']]\n",
    "    return recommendations\n",
    "  else:\n",
    "    return \"No movies found. Please check your input.\"\n",
    "\n",
    "input_movie = \"Memento\"\n",
    "recommendations_rbf = get_movie_recommendation_svm_rbf(input_movie, svm_model_rbf, tfidf_vectorizer, movies)\n",
    "print(recommendations_rbf)"
   ]
  }
 ],
 "metadata": {
  "kernelspec": {
   "display_name": "base",
   "language": "python",
   "name": "python3"
  },
  "language_info": {
   "codemirror_mode": {
    "name": "ipython",
    "version": 3
   },
   "file_extension": ".py",
   "mimetype": "text/x-python",
   "name": "python",
   "nbconvert_exporter": "python",
   "pygments_lexer": "ipython3",
   "version": "3.9.13"
  }
 },
 "nbformat": 4,
 "nbformat_minor": 2
}
